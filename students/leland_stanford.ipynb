{
 "metadata": {
  "name": "leland_stanford.ipynb"
 },
 "nbformat": 3,
 "worksheets": [
  {
   "cells": [
    {
     "cell_type": "code",
     "input": [
      "student_name = 'Stanford, Leland'",
      "sunet_id = 'LSJ'",
      "seed = 1891"
     ],
     "language": "python",
     "outputs": [],
     "prompt_number": 1
    },
    {
     "cell_type": "code",
     "input": [
      ""
     ],
     "language": "python",
     "outputs": []
    }
   ]
  }
 ]
}