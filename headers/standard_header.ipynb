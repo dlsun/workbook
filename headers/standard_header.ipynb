{
 "metadata": {
  "name": "standard_header"
 },
 "nbformat": 3,
 "worksheets": [
  {
   "cells": [
    {
     "cell_type": "code",
     "input": [
      "import numpy as np, random",
      "random.seed(seed)",
      "np.random.seed(seed)",
      "%load_ext rmagic",
      "%R -i seed set.seed(seed)",
      "",
      "",
      "%load_ext rmagic",
      "from workbook.utils.questions import *",
      "from IPython.core.displaypub import publish_display_data",
      "counter = HomeworkCounter()"
     ],
     "language": "python",
     "outputs": []
    }
   ]
  }
 ]
}