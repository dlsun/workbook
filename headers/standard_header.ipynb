{
 "metadata": {
  "name": "standard_header"
 },
 "nbformat": 3,
 "worksheets": [
  {
   "cells": [
    {
     "cell_type": "code",
     "input": [
      "try:",
      "    seed = seed",
      "except NameError:",
      "    seed = 0",
      "import numpy as np, random",
      "random.seed(seed)",
      "np.random.seed(seed)",
      "%load_ext rmagic",
      "%R -i seed set.seed(seed)",
      "",
      "",
      "%load_ext rmagic",
      "from workbook.utils.questions import *",
      "from IPython.core.displaypub import publish_display_data",
      "counter = HomeworkCounter()",
      "",
      "import workbook.utils.homework_magics",
      "#f = workbook.utils.homework_magics.__file__",
      "#import os; f = os.path.splitext(f)[0] + '.py'",
      "#ip = get_ipython()",
      "#ip.magic('run %s' % f)"
     ],
     "language": "python",
     "outputs": [],
     "prompt_number": 6
    },
    {
     "cell_type": "code",
     "input": [
      ""
     ],
     "language": "python",
     "outputs": []
    }
   ]
  }
 ]
}