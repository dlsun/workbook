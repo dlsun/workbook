{
 "metadata": {
  "name": "question2"
 },
 "nbformat": 3,
 "worksheets": [
  {
   "cells": [
    {
     "cell_type": "code",
     "input": [
      "import sys",
      "sys.path.append('/Users/jonathantaylor/workbook/homework_files/')",
      "%load_ext rmagic",
      "from homework_builder.questions import *",
      "from IPython.core.displaypub import publish_display_data",
      ""
     ],
     "language": "python",
     "outputs": [],
     "prompt_number": 8
    },
    {
     "cell_type": "code",
     "input": [
      "%R X = rnorm(40) ; Y = rnorm(40) + X ; plot(X,Y, pch=24, bg='red', cex=2)",
      "true_or_false(\"The correaltion is negative.\", False, \"cor_T_or_F\")"
     ],
     "language": "python",
     "outputs": [
      {
       "output_type": "display_data",
       "png": "[encoded data removed]"
      },
      {
       "latex": [
        "(True/False) The correaltion is negative."
       ],
       "output_type": "display_data"
      },
      {
       "html": [
        "",
        "    <p><input type=\"radio\" name=\"cor_T_or_F\" value=\"True\"> True</p>",
        "    ",
        "",
        "    <p><input type=\"radio\" name=\"cor_T_or_F\" value=\"False\"> False</p>",
        "    "
       ],
       "output_type": "display_data"
      },
      {
       "json": [
        "{\"checkable\": true, \"question_identifier\": \"cor_T_or_F\", \"correct_answer\": false}"
       ],
       "output_type": "display_data"
      }
     ],
     "prompt_number": 9
    },
    {
     "cell_type": "code",
     "input": [
      "%R print(summary(lm(X~Y)))"
     ],
     "language": "python",
     "outputs": [
      {
       "output_type": "display_data",
       "text": [
        "",
        "Call:",
        "lm(formula = X ~ Y)",
        "",
        "Residuals:",
        "     Min       1Q   Median       3Q      Max ",
        "-1.68726 -0.73671 -0.01722  0.64155  1.18695 ",
        "",
        "Coefficients:",
        "            Estimate Std. Error t value Pr(>|t|)    ",
        "(Intercept) 0.007994   0.122389   0.065    0.948    ",
        "Y           0.530019   0.081725   6.485 1.23e-07 ***",
        "---",
        "Signif. codes:  0 \u2018***\u2019 0.001 \u2018**\u2019 0.01 \u2018*\u2019 0.05 \u2018.\u2019 0.1 \u2018 \u2019 1 ",
        "",
        "Residual standard error: 0.774 on 38 degrees of freedom",
        "Multiple R-squared: 0.5254,\tAdjusted R-squared: 0.5129 ",
        "F-statistic: 42.06 on 1 and 38 DF,  p-value: 1.232e-07 ",
        "",
        ""
       ]
      }
     ],
     "prompt_number": 10
    },
    {
     "cell_type": "code",
     "input": [
      "true_corr = %R cor(X,Y)",
      "",
      "question_text = r'Up to 2 significant digits, what is the correlation between $X$ and $Y$?'",
      "",
      "while True:",
      "    choices = ['%0.2f' % c for c in list(np.random.random(size=(3,))*2-1) + [true_corr]]",
      "    if len(set(choices)) == 4 :",
      "        break"
     ],
     "language": "python",
     "outputs": [],
     "prompt_number": 11
    },
    {
     "cell_type": "code",
     "input": [
      "multiple_choice(question_text, choices, \"%0.2f\" % true_corr, 'correlation')",
      "",
      ""
     ],
     "language": "python",
     "outputs": [
      {
       "latex": [
        "Up to 2 significant digits, what is the correlation between $X$ and $Y$?"
       ],
       "output_type": "display_data"
      },
      {
       "html": [
        "",
        "    <p><input type=\"radio\" name=\"correlation\" value=\"-0.85\"> -0.85</p>",
        "    ",
        "",
        "    <p><input type=\"radio\" name=\"correlation\" value=\"-0.15\"> -0.15</p>",
        "    ",
        "",
        "    <p><input type=\"radio\" name=\"correlation\" value=\"0.72\"> 0.72</p>",
        "    ",
        "",
        "    <p><input type=\"radio\" name=\"correlation\" value=\"-0.31\"> -0.31</p>",
        "    "
       ],
       "output_type": "display_data"
      },
      {
       "json": [
        "{\"checkable\": true, \"question_identifier\": \"correlation\", \"correct_answer\": \"0.72\"}"
       ],
       "output_type": "display_data"
      }
     ],
     "prompt_number": 12
    },
    {
     "cell_type": "code",
     "input": [
      ""
     ],
     "language": "python",
     "outputs": [],
     "prompt_number": 12
    }
   ]
  }
 ]
}