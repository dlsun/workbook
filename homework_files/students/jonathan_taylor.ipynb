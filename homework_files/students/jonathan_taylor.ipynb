{
 "metadata": {
  "name": "jonathan_taylor.ipynb"
 },
 "nbformat": 3,
 "worksheets": [
  {
   "cells": [
    {
     "cell_type": "code",
     "input": [
      "student_name = 'Taylor, Jonathan'",
      "sunet_id = 'jtaylo'",
      "seed = 2345093"
     ],
     "language": "python",
     "outputs": [],
     "prompt_number": 1
    },
    {
     "cell_type": "code",
     "input": [
      ""
     ],
     "language": "python",
     "outputs": []
    }
   ]
  }
 ]
}