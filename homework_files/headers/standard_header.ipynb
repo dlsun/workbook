{
 "metadata": {
  "name": "randomization_template"
 },
 "nbformat": 3,
 "worksheets": [
  {
   "cells": [
    {
     "cell_type": "code",
     "input": [
      "import numpy as np, random",
      "random.seed(seed)",
      "np.random.seed(seed)",
      "%load_ext rmagic",
      "%R -i seed set.seed(seed)",
      ""
     ],
     "language": "python",
     "outputs": []
    }
   ]
  }
 ]
}