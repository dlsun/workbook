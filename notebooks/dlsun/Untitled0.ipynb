{
 "metadata": {
  "name": "New Homework"
 },
 "nbformat": 3,
 "worksheets": [
  {
   "cells": [
    {
     "cell_type": "code",
     "collapsed": false,
     "input": [
      "import numpy as np",
      "print(np.random.rand(5))"
     ],
     "language": "python",
     "outputs": [
      {
       "output_type": "stream",
       "stream": "stdout",
       "text": [
        "[ 0.48866968  0.75033637  0.99166618  0.91635443  0.37202146]",
        ""
       ]
      }
     ],
     "prompt_number": 1
    },
    {
     "cell_type": "markdown",
     "source": [
      "What is the maximum of the numbers above?"
     ]
    },
    {
     "cell_type": "code",
     "collapsed": true,
     "input": [
      "Test"
     ],
     "language": "python",
     "outputs": []
    },
    {
     "cell_type": "heading",
     "level": 2,
     "source": [
      "Yeah!"
     ]
    },
    {
     "cell_type": "code",
     "collapsed": true,
     "input": [
      ""
     ],
     "language": "python",
     "outputs": []
    }
   ]
  }
 ]
}