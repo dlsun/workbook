{
 "metadata": {
  "name": "output/assignment1/leland_stanford_executed"
 },
 "nbformat": 3,
 "worksheets": [
  {
   "cells": [
    {
     "cell_type": "code",
     "collapsed": false,
     "input": [
      "student_name = 'Stanford, Leland'",
      "sunet_id = 'LSJ'",
      "seed = 1891"
     ],
     "language": "python",
     "outputs": [
      {
       "json": {
        "owner": "teacher"
       },
       "output_type": "display_data"
      }
     ],
     "prompt_number": 1
    },
    {
     "cell_type": "code",
     "collapsed": false,
     "input": [
      "asdfas",
      ""
     ],
     "language": "python",
     "outputs": [
      {
       "json": {
        "owner": "student"
       },
       "output_type": "display_data"
      }
     ],
     "prompt_number": 2
    },
    {
     "cell_type": "code",
     "collapsed": false,
     "input": [
      "import numpy as np, random",
      "random.seed(seed)",
      "np.random.seed(seed)",
      "%load_ext rmagic",
      "%R -i seed set.seed(seed)",
      ""
     ],
     "language": "python",
     "outputs": [
      {
       "json": {
        "owner": "teacher"
       },
       "output_type": "display_data"
      }
     ],
     "prompt_number": 3
    },
    {
     "cell_type": "code",
     "collapsed": false,
     "input": [
      "import sys",
      "sys.path.append('/Users/jonathantaylor/workbook/homework_files/')",
      "%load_ext rmagic",
      "from homework_builder.questions import *",
      "from IPython.core.displaypub import publish_display_data",
      ""
     ],
     "language": "python",
     "outputs": [
      {
       "json": {
        "owner": "teacher"
       },
       "output_type": "display_data"
      }
     ],
     "prompt_number": 4
    },
    {
     "cell_type": "code",
     "collapsed": false,
     "input": [
      "multiple_choice('What color is the sun?', ['Red', 'Green', 'Blue', 'None of the above'], 'None of the above', 'suncolor')",
      ""
     ],
     "language": "python",
     "outputs": [
      {
       "latex": [
        "What color is the sun?"
       ],
       "output_type": "display_data"
      },
      {
       "html": [
        "",
        "    <p><input type=\"radio\" name=\"suncolor\" value=\"None of the above\"> None of the above</p>",
        "    ",
        "",
        "    <p><input type=\"radio\" name=\"suncolor\" value=\"Blue\"> Blue</p>",
        "    ",
        "",
        "    <p><input type=\"radio\" name=\"suncolor\" value=\"Green\"> Green</p>",
        "    ",
        "",
        "    <p><input type=\"radio\" name=\"suncolor\" value=\"Red\"> Red</p>",
        "    "
       ],
       "output_type": "display_data"
      },
      {
       "json": [
        "{\"checkable\": true, \"question_identifier\": \"suncolor\", \"correct_answer\": \"None of the above\"}"
       ],
       "output_type": "display_data"
      },
      {
       "json": {
        "owner": "teacher"
       },
       "output_type": "display_data"
      }
     ],
     "prompt_number": 5
    },
    {
     "cell_type": "code",
     "collapsed": false,
     "input": [
      "multiple_choice(\"What's your favorite day of the week.\", ['Monday', 'Tuesday', 'Wednesday', 'Thursday', 'Friday', 'Saturday', 'Sunday'], 'Friday', 'day_of_the_week')"
     ],
     "language": "python",
     "outputs": [
      {
       "latex": [
        "What's your favorite day of the week."
       ],
       "output_type": "display_data"
      },
      {
       "html": [
        "",
        "    <p><input type=\"radio\" name=\"day_of_the_week\" value=\"Sunday\"> Sunday</p>",
        "    ",
        "",
        "    <p><input type=\"radio\" name=\"day_of_the_week\" value=\"Friday\"> Friday</p>",
        "    ",
        "",
        "    <p><input type=\"radio\" name=\"day_of_the_week\" value=\"Saturday\"> Saturday</p>",
        "    ",
        "",
        "    <p><input type=\"radio\" name=\"day_of_the_week\" value=\"Tuesday\"> Tuesday</p>",
        "    ",
        "",
        "    <p><input type=\"radio\" name=\"day_of_the_week\" value=\"Thursday\"> Thursday</p>",
        "    ",
        "",
        "    <p><input type=\"radio\" name=\"day_of_the_week\" value=\"Wednesday\"> Wednesday</p>",
        "    ",
        "",
        "    <p><input type=\"radio\" name=\"day_of_the_week\" value=\"Monday\"> Monday</p>",
        "    "
       ],
       "output_type": "display_data"
      },
      {
       "json": [
        "{\"checkable\": true, \"question_identifier\": \"day_of_the_week\", \"correct_answer\": \"Friday\"}"
       ],
       "output_type": "display_data"
      },
      {
       "json": {
        "owner": "teacher"
       },
       "output_type": "display_data"
      }
     ],
     "prompt_number": 6
    },
    {
     "cell_type": "code",
     "collapsed": false,
     "input": [
      ""
     ],
     "language": "python",
     "outputs": [
      {
       "json": {
        "owner": "student"
       },
       "output_type": "display_data"
      }
     ],
     "prompt_number": 7
    },
    {
     "cell_type": "code",
     "collapsed": false,
     "input": [
      "import sys",
      "sys.path.append('/Users/jonathantaylor/workbook/homework_files/')",
      "%load_ext rmagic",
      "from homework_builder.questions import *",
      "from IPython.core.displaypub import publish_display_data",
      ""
     ],
     "language": "python",
     "outputs": [
      {
       "json": {
        "owner": "teacher"
       },
       "output_type": "display_data"
      }
     ],
     "prompt_number": 8
    },
    {
     "cell_type": "code",
     "collapsed": false,
     "input": [
      "%R X = rnorm(40) ; Y = rnorm(40) + X ; plot(X,Y, pch=24, bg='red', cex=2)",
      "true_or_false(\"The correaltion is negative.\", False, \"cor_T_or_F\")"
     ],
     "language": "python",
     "outputs": [
      {
       "output_type": "display_data",
       "png": "[encoded data removed]"
      },
      {
       "latex": [
        "(True/False) The correaltion is negative."
       ],
       "output_type": "display_data"
      },
      {
       "html": [
        "",
        "    <p><input type=\"radio\" name=\"cor_T_or_F\" value=\"True\"> True</p>",
        "    ",
        "",
        "    <p><input type=\"radio\" name=\"cor_T_or_F\" value=\"False\"> False</p>",
        "    "
       ],
       "output_type": "display_data"
      },
      {
       "json": [
        "{\"checkable\": true, \"question_identifier\": \"cor_T_or_F\", \"correct_answer\": false}"
       ],
       "output_type": "display_data"
      },
      {
       "json": {
        "owner": "teacher"
       },
       "output_type": "display_data"
      }
     ],
     "prompt_number": 9
    },
    {
     "cell_type": "code",
     "collapsed": false,
     "input": [
      "%R print(summary(lm(X~Y)))"
     ],
     "language": "python",
     "outputs": [
      {
       "output_type": "display_data",
       "text": [
        "",
        "Call:",
        "lm(formula = X ~ Y)",
        "",
        "Residuals:",
        "     Min       1Q   Median       3Q      Max ",
        "-1.33923 -0.47004 -0.07111  0.45536  1.55165 ",
        "",
        "Coefficients:",
        "            Estimate Std. Error t value Pr(>|t|)    ",
        "(Intercept)  0.14378    0.12024   1.196    0.239    ",
        "Y            0.51035    0.09485   5.381 4.02e-06 ***",
        "---",
        "Signif. codes:  0 \u2018***\u2019 0.001 \u2018**\u2019 0.01 \u2018*\u2019 0.05 \u2018.\u2019 0.1 \u2018 \u2019 1 ",
        "",
        "Residual standard error: 0.753 on 38 degrees of freedom",
        "Multiple R-squared: 0.4324,\tAdjusted R-squared: 0.4175 ",
        "F-statistic: 28.95 on 1 and 38 DF,  p-value: 4.019e-06 ",
        "",
        ""
       ]
      },
      {
       "json": {
        "owner": "teacher"
       },
       "output_type": "display_data"
      }
     ],
     "prompt_number": 10
    },
    {
     "cell_type": "code",
     "collapsed": false,
     "input": [
      "true_corr = %R cor(X,Y)",
      "",
      "question_text = r'Up to 2 significant digits, what is the correlation between $X$ and $Y$?'",
      "",
      "while True:",
      "    choices = ['%0.2f' % c for c in list(np.random.random(size=(3,))*2-1) + [true_corr]]",
      "    if len(set(choices)) == 4 :",
      "        break"
     ],
     "language": "python",
     "outputs": [
      {
       "json": {
        "owner": "teacher"
       },
       "output_type": "display_data"
      }
     ],
     "prompt_number": 11
    },
    {
     "cell_type": "code",
     "collapsed": false,
     "input": [
      "multiple_choice(question_text, choices, \"%0.2f\" % true_corr, 'correlation')",
      "",
      ""
     ],
     "language": "python",
     "outputs": [
      {
       "latex": [
        "Up to 2 significant digits, what is the correlation between $X$ and $Y$?"
       ],
       "output_type": "display_data"
      },
      {
       "html": [
        "",
        "    <p><input type=\"radio\" name=\"correlation\" value=\"-0.47\"> -0.47</p>",
        "    ",
        "",
        "    <p><input type=\"radio\" name=\"correlation\" value=\"0.66\"> 0.66</p>",
        "    ",
        "",
        "    <p><input type=\"radio\" name=\"correlation\" value=\"-0.02\"> -0.02</p>",
        "    ",
        "",
        "    <p><input type=\"radio\" name=\"correlation\" value=\"-0.05\"> -0.05</p>",
        "    "
       ],
       "output_type": "display_data"
      },
      {
       "json": [
        "{\"checkable\": true, \"question_identifier\": \"correlation\", \"correct_answer\": \"0.66\"}"
       ],
       "output_type": "display_data"
      },
      {
       "json": {
        "owner": "teacher"
       },
       "output_type": "display_data"
      }
     ],
     "prompt_number": 12
    },
    {
     "cell_type": "code",
     "collapsed": false,
     "input": [
      ""
     ],
     "language": "python",
     "outputs": [
      {
       "json": {
        "owner": "student"
       },
       "output_type": "display_data"
      }
     ],
     "prompt_number": 13
    }
   ]
  }
 ]
}