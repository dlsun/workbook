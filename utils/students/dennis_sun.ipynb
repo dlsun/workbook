{
 "metadata": {
  "name": "dennis_sun.ipynb"
 },
 "nbformat": 3,
 "worksheets": [
  {
   "cells": [
    {
     "cell_type": "code",
     "input": [
      "student_name = 'Sun, Dennis'",
      "sunet_id = 'dlsun'",
      "seed = 363982"
     ],
     "language": "python",
     "outputs": [],
     "prompt_number": 1
    },
    {
     "cell_type": "code",
     "input": [
      ""
     ],
     "language": "python",
     "outputs": []
    }
   ]
  }
 ]
}