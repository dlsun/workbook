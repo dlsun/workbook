{
 "metadata": {
  "name": "question1"
 },
 "nbformat": 3,
 "worksheets": [
  {
   "cells": [
    {
     "cell_type": "code",
     "input": [
      "counter.next()"
     ],
     "language": "python",
     "outputs": [
      {
       "html": [
        "<h2>Question 1</h2>"
       ],
       "output_type": "display_data"
      }
     ],
     "prompt_number": 1
    },
    {
     "cell_type": "code",
     "input": [
      "multiple_choice('What color is the sun?', ['Red', 'Green', 'Blue', 'None of the above'], 'None of the above', 'suncolor')",
      ""
     ],
     "language": "python",
     "outputs": [
      {
       "latex": [
        "What color is the sun?"
       ],
       "output_type": "display_data"
      },
      {
       "html": [
        "",
        "    <p><input type=\"radio\" name=\"suncolor\" value=\"Red\"> Red</p>",
        "    ",
        "",
        "    <p><input type=\"radio\" name=\"suncolor\" value=\"None of the above\"> None of the above</p>",
        "    ",
        "",
        "    <p><input type=\"radio\" name=\"suncolor\" value=\"Blue\"> Blue</p>",
        "    ",
        "",
        "    <p><input type=\"radio\" name=\"suncolor\" value=\"Green\"> Green</p>",
        "    "
       ],
       "output_type": "display_data"
      },
      {
       "json": [
        "{\"checkable\": true, \"question_identifier\": \"suncolor\", \"correct_answer\": \"None of the above\"}"
       ],
       "output_type": "display_data"
      }
     ],
     "prompt_number": 3
    },
    {
     "cell_type": "code",
     "input": [
      "multiple_choice(\"What's your favorite day of the week.\", ['Monday', 'Tuesday', 'Wednesday', 'Thursday', 'Friday', 'Saturday', 'Sunday'], 'Friday', 'day_of_the_week')"
     ],
     "language": "python",
     "outputs": [
      {
       "latex": [
        "What's your favorite day of the week."
       ],
       "output_type": "display_data"
      },
      {
       "html": [
        "",
        "    <p><input type=\"radio\" name=\"day_of_the_week\" value=\"Saturday\"> Saturday</p>",
        "    ",
        "",
        "    <p><input type=\"radio\" name=\"day_of_the_week\" value=\"Thursday\"> Thursday</p>",
        "    ",
        "",
        "    <p><input type=\"radio\" name=\"day_of_the_week\" value=\"Wednesday\"> Wednesday</p>",
        "    ",
        "",
        "    <p><input type=\"radio\" name=\"day_of_the_week\" value=\"Friday\"> Friday</p>",
        "    ",
        "",
        "    <p><input type=\"radio\" name=\"day_of_the_week\" value=\"Monday\"> Monday</p>",
        "    ",
        "",
        "    <p><input type=\"radio\" name=\"day_of_the_week\" value=\"Tuesday\"> Tuesday</p>",
        "    ",
        "",
        "    <p><input type=\"radio\" name=\"day_of_the_week\" value=\"Sunday\"> Sunday</p>",
        "    "
       ],
       "output_type": "display_data"
      },
      {
       "json": [
        "{\"checkable\": true, \"question_identifier\": \"day_of_the_week\", \"correct_answer\": \"Friday\"}"
       ],
       "output_type": "display_data"
      }
     ],
     "prompt_number": 4
    }
   ]
  }
 ]
}