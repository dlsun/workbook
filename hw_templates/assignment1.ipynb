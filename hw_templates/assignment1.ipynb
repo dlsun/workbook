{
 "metadata": {
  "name": "assignment1"
 },
 "nbformat": 3,
 "nbformat_minor": 0,
 "worksheets": [
  {
   "cells": [
    {
     "cell_type": "code",
     "collapsed": false,
     "input": [
      "%load_ext rmagic\n",
      "from workbook.api import *\n"
     ],
     "language": "python",
     "metadata": {},
     "outputs": [],
     "prompt_number": 3
    },
    {
     "cell_type": "code",
     "collapsed": false,
     "input": [
      "%%wb_multiple_choice 'test_mc'\n",
      "%R X=rnorm(10); print(X)\n",
      "question_text = 'Is it true?'                                                                                                                                                       \n",
      "choices = ['True', 'False']                                                                                                                                                         \n",
      "correct_answer = 'True'    "
     ],
     "language": "python",
     "metadata": {},
     "outputs": [
      {
       "json": {
        "choices": [
         "True",
         "False"
        ]
       },
       "output_type": "display_data"
      },
      {
       "output_type": "stream",
       "stream": "stderr",
       "text": [
        "input: 'metadata=json.loads(\"\"\"{\"owner\": \"workbook\", \"user\": \"teacher\"}\"\"\")\\n'\n",
        "outputs: []\n"
       ]
      },
      {
       "json": {
        "owner": "workbook",
        "user": "teacher"
       },
       "output_type": "display_data"
      },
      {
       "output_type": "stream",
       "stream": "stderr",
       "text": [
        "cell metadata: {'owner': 'workbook', 'user': 'teacher'}\n"
       ]
      },
      {
       "latex": [
        "Is it true?"
       ],
       "output_type": "display_data"
      },
      {
       "html": [
        "<form name=\"'test_mc'\" method=\"post\" >\n",
        "<p><input type=\"radio\" name=\"'test_mc'\" value=\"True\" id=\"True\"> True</p>\n",
        "<p><input type=\"radio\" name=\"'test_mc'\" value=\"False\" id=\"False\"> False</p></form>\n"
       ],
       "output_type": "display_data"
      },
      {
       "output_type": "display_data",
       "text": [
        " [1]  1.262954285 -0.326233361  1.329799263  1.272429321  0.414641434\n",
        " [6] -1.539950042 -0.928567035 -0.294720447 -0.005767173  2.404653389\n"
       ]
      },
      {
       "json": {
        "choices": [
         "True",
         "False"
        ]
       },
       "output_type": "display_data"
      },
      {
       "output_type": "stream",
       "stream": "stderr",
       "text": [
        "input: 'metadata=json.loads(\"\"\"{\"owner\": \"workbook\", \"user\": \"teacher\"}\"\"\")\\n'\n",
        "outputs: []\n"
       ]
      },
      {
       "json": {
        "owner": "workbook",
        "user": "teacher"
       },
       "output_type": "display_data"
      },
      {
       "output_type": "stream",
       "stream": "stderr",
       "text": [
        "cell metadata: {'owner': 'workbook', 'user': 'teacher'}\n"
       ]
      },
      {
       "latex": [
        "Is it true?"
       ],
       "output_type": "display_data"
      },
      {
       "html": [
        "<form name=\"'test_mc'\" method=\"post\" >\n",
        "<p><input type=\"radio\" name=\"'test_mc'\" value=\"True\" id=\"True\"> True</p>\n",
        "<p><input type=\"radio\" name=\"'test_mc'\" value=\"False\" id=\"False\"> False</p></form>\n"
       ],
       "output_type": "display_data"
      }
     ],
     "prompt_number": 4
    }
   ],
   "metadata": {}
  }
 ]
}