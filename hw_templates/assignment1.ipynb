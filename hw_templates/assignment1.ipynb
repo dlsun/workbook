{
 "metadata": {
  "name": "assignment1"
 },
 "nbformat": 3,
 "worksheets": [
  {
   "cells": [
    {
     "cell_type": "code",
     "input": [
      "%load_ext rmagic\n",
      "from workbook.api import *\n",
      "\n",
      "# student notebooks will have an additional line above with a seed in it\n",
      "# we set the seed and then delete it\n",
      "try:\n",
      "    set_seed(seed)\n",
      "    del(seed)\n",
      "except NameError:\n",
      "    set_seed(0)\n",
      "%R rm(seed)\n"
     ],
     "language": "python",
     "outputs": [],
     "prompt_number": 4
    },
    {
     "cell_type": "code",
     "input": [
      "counter.next()\n",
      "MultipleChoice('suncolor', 'What color is the sun?', ['Red', 'Green', 'Blue', 'None of the above'], 'None of the above', 'suncolor_new').publish()\n",
      "things_I_want_to_add_to_cell = {'yes':'this is metadata'}\n",
      "%metadata things_I_want_to_add_to_cell"
     ],
     "language": "python",
     "outputs": [
      {
       "html": [
        "<h2>Question 2</h2>"
       ],
       "output_type": "display_data"
      },
      {
       "latex": [
        "What color is the sun?"
       ],
       "output_type": "display_data"
      },
      {
       "html": [
        "<form name=\"suncolor\" method=\"post\" >\n",
        "<p><input type=\"radio\" name=suncolor value=\"Red\" id=\"Red\"> Red</p>\n",
        "<p><input type=\"radio\" name=suncolor value=\"Green\" id=\"Green\"> Green</p>\n",
        "<p><input type=\"radio\" name=suncolor value=\"Blue\" id=\"Blue\"> Blue</p>\n",
        "<p><input type=\"radio\" name=suncolor value=\"None of the above\" id=\"None of the above\"> None of the above</p></form>\n"
       ],
       "json": {
        "checkable": false,
        "constructor_info": [
         "multiple_choice",
         [
          "suncolor",
          "What color is the sun?",
          [
           "Red",
           "Green",
           "Blue",
           "None of the above"
          ],
          "None of the above"
         ],
         {
          "assignment": "suncolor_new",
          "selected": null
         }
        ],
        "correct_answer": "None of the above",
        "question_identifier": "suncolor"
       },
       "latex": [
        "What color is the sun?"
       ],
       "output_type": "display_data"
      },
      {
       "json": {
        "workbook_metadata": {
         "yes": "this is metadata"
        }
       },
       "output_type": "display_data"
      }
     ],
     "prompt_number": 5
    },
    {
     "cell_type": "code",
     "input": [
      "MultipleChoice('day_of_the_week', \"What's your favorite day of the week.\", ['Monday', 'Tuesday', 'Wednesday', 'Thursday', 'Friday', 'Saturday', 'Sunday'], 'Friday').publish()"
     ],
     "language": "python",
     "outputs": [
      {
       "latex": [
        "What's your favorite day of the week."
       ],
       "output_type": "display_data"
      },
      {
       "html": [
        "<form name=\"day_of_the_week\" method=\"post\" >\n",
        "<p><input type=\"radio\" name=day_of_the_week value=\"Monday\" id=\"Monday\"> Monday</p>\n",
        "<p><input type=\"radio\" name=day_of_the_week value=\"Tuesday\" id=\"Tuesday\"> Tuesday</p>\n",
        "<p><input type=\"radio\" name=day_of_the_week value=\"Wednesday\" id=\"Wednesday\"> Wednesday</p>\n",
        "<p><input type=\"radio\" name=day_of_the_week value=\"Thursday\" id=\"Thursday\"> Thursday</p>\n",
        "<p><input type=\"radio\" name=day_of_the_week value=\"Friday\" id=\"Friday\"> Friday</p>\n",
        "<p><input type=\"radio\" name=day_of_the_week value=\"Saturday\" id=\"Saturday\"> Saturday</p>\n",
        "<p><input type=\"radio\" name=day_of_the_week value=\"Sunday\" id=\"Sunday\"> Sunday</p></form>\n"
       ],
       "json": {
        "checkable": false,
        "constructor_info": [
         "multiple_choice",
         [
          "day_of_the_week",
          "What's your favorite day of the week.",
          [
           "Monday",
           "Tuesday",
           "Wednesday",
           "Thursday",
           "Friday",
           "Saturday",
           "Sunday"
          ],
          "Friday"
         ],
         {
          "assignment": "assignment1",
          "selected": null
         }
        ],
        "correct_answer": "Friday",
        "question_identifier": "day_of_the_week"
       },
       "latex": [
        "What's your favorite day of the week."
       ],
       "output_type": "display_data"
      }
     ],
     "prompt_number": 6
    },
    {
     "cell_type": "code",
     "input": [
      "counter.next()\n",
      "%R X = rnorm(40) ; Y = rnorm(40) + X ; plot(X,Y, pch=24, bg='red', cex=2)\n",
      "TrueFalse('cor_T_or_F', \"The correlation is negative.\", False).publish()"
     ],
     "language": "python",
     "outputs": [
      {
       "html": [
        "<h2>Question 3</h2>"
       ],
       "output_type": "display_data"
      },
      {
       "output_type": "display_data",
       "png": "[encoded data removed]"
      },
      {
       "latex": [
        "(True/False) The correlation is negative."
       ],
       "output_type": "display_data"
      },
      {
       "html": [
        "<form name=\"cor_T_or_F\" method=\"post\" >\n",
        "<p><input type=\"radio\" name=cor_T_or_F value=\"True\" id=\"True\"> True</p>\n",
        "<p><input type=\"radio\" name=cor_T_or_F value=\"False\" id=\"False\"> False</p></form>\n"
       ],
       "json": {
        "checkable": false,
        "constructor_info": [
         "true_false",
         [
          "cor_T_or_F",
          "The correlation is negative.",
          false
         ],
         {
          "assignment": "assignment1",
          "selected": null
         }
        ],
        "correct_answer": false,
        "question_identifier": "cor_T_or_F"
       },
       "latex": [
        "(True/False) The correlation is negative."
       ],
       "output_type": "display_data"
      }
     ],
     "prompt_number": 7
    },
    {
     "cell_type": "code",
     "input": [
      "counter.next()\n",
      "%R print(summary(lm(X~Y)))"
     ],
     "language": "python",
     "outputs": [
      {
       "html": [
        "<h2>Question 4</h2>"
       ],
       "output_type": "display_data"
      },
      {
       "output_type": "display_data",
       "text": [
        "\n",
        "Call:\n",
        "lm(formula = X ~ Y)\n",
        "\n",
        "Residuals:\n",
        "     Min       1Q   Median       3Q      Max \n",
        "-1.84879 -0.38689 -0.05928  0.37091  1.28780 \n",
        "\n",
        "Coefficients:\n",
        "            Estimate Std. Error t value Pr(>|t|)    \n",
        "(Intercept)  0.09248    0.10147   0.911    0.368    \n",
        "Y            0.47047    0.08015   5.870 8.59e-07 ***\n",
        "---\n",
        "Signif. codes:  0 \u2018***\u2019 0.001 \u2018**\u2019 0.01 \u2018*\u2019 0.05 \u2018.\u2019 0.1 \u2018 \u2019 1 \n",
        "\n",
        "Residual standard error: 0.6405 on 38 degrees of freedom\n",
        "Multiple R-squared: 0.4755,\tAdjusted R-squared: 0.4617 \n",
        "F-statistic: 34.46 on 1 and 38 DF,  p-value: 8.587e-07 \n",
        "\n"
       ]
      }
     ],
     "prompt_number": 8
    },
    {
     "cell_type": "code",
     "input": [
      "true_corr = %R cor(X,Y)\n",
      "\n",
      "question_text = r'Up to 2 significant digits, what is the correlation between $X$ and $Y$?'\n",
      "\n",
      "while True:\n",
      "    choices = ['%0.2f' % c for c in list(np.random.random(size=(3,))*2-1) + [true_corr]]\n",
      "    if len(set(choices)) == 4 :\n",
      "        break"
     ],
     "language": "python",
     "outputs": [],
     "prompt_number": 9
    },
    {
     "cell_type": "code",
     "input": [
      "MultipleChoice('correlation', question_text, choices, \"%0.2f\" % true_corr).publish()"
     ],
     "language": "python",
     "outputs": [
      {
       "latex": [
        "Up to 2 significant digits, what is the correlation between $X$ and $Y$?"
       ],
       "output_type": "display_data"
      },
      {
       "html": [
        "<form name=\"correlation\" method=\"post\" >\n",
        "<p><input type=\"radio\" name=correlation value=\"0.10\" id=\"0.10\"> 0.10</p>\n",
        "<p><input type=\"radio\" name=correlation value=\"0.43\" id=\"0.43\"> 0.43</p>\n",
        "<p><input type=\"radio\" name=correlation value=\"0.21\" id=\"0.21\"> 0.21</p>\n",
        "<p><input type=\"radio\" name=correlation value=\"0.69\" id=\"0.69\"> 0.69</p></form>\n"
       ],
       "json": {
        "checkable": false,
        "constructor_info": [
         "multiple_choice",
         [
          "correlation",
          "Up to 2 significant digits, what is the correlation between $X$ and $Y$?",
          [
           "0.10",
           "0.43",
           "0.21",
           "0.69"
          ],
          "0.69"
         ],
         {
          "assignment": "assignment1",
          "selected": null
         }
        ],
        "correct_answer": "0.69",
        "question_identifier": "correlation"
       },
       "latex": [
        "Up to 2 significant digits, what is the correlation between $X$ and $Y$?"
       ],
       "output_type": "display_data"
      }
     ],
     "prompt_number": 10
    },
    {
     "cell_type": "code",
     "input": [
      "publish_display_data('HomeworkBuilder', {'text/html':\"<h3>Explain your work</h3>\"})"
     ],
     "language": "python",
     "outputs": [
      {
       "html": [
        "<h3>Explain your work</h3>"
       ],
       "output_type": "display_data"
      }
     ],
     "prompt_number": 11
    },
    {
     "cell_type": "code",
     "input": [
      "TextBox('trick_question', 'Why do you say that?', 'Because.').publish()"
     ],
     "language": "python",
     "outputs": [
      {
       "html": [
        "\n",
        "        <form method=\"post\" name=trick_question ><p><input type=\"text\" ></p></form>\n",
        "        "
       ],
       "json": {
        "checkable": false,
        "constructor_info": [
         "textbox",
         [
          "trick_question",
          "Why do you say that?"
         ],
         {
          "answer": null,
          "assignment": "assignment1",
          "correct_answer": "Because."
         }
        ],
        "correct_answer": "Because.",
        "question_identifier": "trick_question"
       },
       "latex": [
        "Why do you say that?"
       ],
       "output_type": "display_data"
      }
     ],
     "prompt_number": 12
    }
   ]
  }
 ]
}