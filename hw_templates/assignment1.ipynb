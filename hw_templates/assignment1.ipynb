{
 "metadata": {
  "name": "assignment1"
 },
 "nbformat": 3,
 "worksheets": [
  {
   "cells": [
    {
     "cell_type": "code",
     "input": [
      "\n",
      "%load_ext rmagic\n",
      "\n",
      "from workbook.api import *\n",
      "\n",
      "\n",
      "\n",
      "# student notebooks will have an additional line above with a seed in it\n",
      "\n",
      "# we set the seed and then delete it\n",
      "\n",
      "try:\n",
      "\n",
      "    set_seed(seed)\n",
      "\n",
      "    del(seed)\n",
      "\n",
      "except NameError:\n",
      "\n",
      "    set_seed(0)\n",
      "\n",
      "%R rm(seed)\n"
     ],
     "language": "python",
     "outputs": [],
     "prompt_number": 2
    },
    {
     "cell_type": "code",
     "input": [
      "counter.next()\n",
      "\n",
      "MultipleChoice('suncolor', 'What color is the sun?', ['Red', 'Green', 'Blue', 'None of the above'], 'None of the above').publish()\n",
      "\n",
      "counter.next() \n",
      "MultipleChoice('mooncolor', 'What color is the moon?', ['Red', 'Green', 'Blue', 'None of the above'], 'None of the above').publish()\n",
      "things_I_want_to_add_to_cell = {'yes':'this is metadata'}\n",
      "\n",
      "%metadata things_I_want_to_add_to_cell"
     ],
     "language": "python",
     "outputs": [
      {
       "html": [
        "<h2>Question 2</h2>"
       ],
       "output_type": "display_data"
      },
      {
       "json": {
        "constructor_info": [
         "multiple_choice",
         [
          "suncolor",
          "What color is the sun?",
          [
           "Red",
           "Green",
           "Blue",
           "None of the above"
          ],
          "None of the above"
         ],
         {
          "assignment": "assignment1",
          "selected": null
         }
        ],
        "identifier": "suncolor"
       },
       "latex": [
        "What color is the sun?"
       ],
       "output_type": "display_data"
      },
      {
       "html": [
        "<form name=\"suncolor\" method=\"post\" >\n",
        "<p><input type=\"radio\" name=suncolor value=\"Red\" id=\"Red\"> Red</p>\n",
        "<p><input type=\"radio\" name=suncolor value=\"Green\" id=\"Green\"> Green</p>\n",
        "<p><input type=\"radio\" name=suncolor value=\"Blue\" id=\"Blue\"> Blue</p>\n",
        "<p><input type=\"radio\" name=suncolor value=\"None of the above\" id=\"None of the above\"> None of the above</p></form>\n"
       ],
       "json": {
        "constructor_info": [
         "multiple_choice",
         [
          "suncolor",
          "What color is the sun?",
          [
           "Red",
           "Green",
           "Blue",
           "None of the above"
          ],
          "None of the above"
         ],
         {
          "assignment": "assignment1",
          "selected": null
         }
        ],
        "identifier": "suncolor"
       },
       "output_type": "display_data"
      },
      {
       "html": [
        "<h2>Question 3</h2>"
       ],
       "output_type": "display_data"
      },
      {
       "json": {
        "constructor_info": [
         "multiple_choice",
         [
          "suncolor",
          "What color is the moon?",
          [
           "Red",
           "Green",
           "Blue",
           "None of the above"
          ],
          "None of the above"
         ],
         {
          "assignment": "assignment1",
          "selected": null
         }
        ],
        "identifier": "suncolor"
       },
       "latex": [
        "What color is the moon?"
       ],
       "output_type": "display_data"
      },
      {
       "html": [
        "<form name=\"suncolor\" method=\"post\" >\n",
        "<p><input type=\"radio\" name=suncolor value=\"Red\" id=\"Red\"> Red</p>\n",
        "<p><input type=\"radio\" name=suncolor value=\"Green\" id=\"Green\"> Green</p>\n",
        "<p><input type=\"radio\" name=suncolor value=\"Blue\" id=\"Blue\"> Blue</p>\n",
        "<p><input type=\"radio\" name=suncolor value=\"None of the above\" id=\"None of the above\"> None of the above</p></form>\n"
       ],
       "json": {
        "constructor_info": [
         "multiple_choice",
         [
          "suncolor",
          "What color is the moon?",
          [
           "Red",
           "Green",
           "Blue",
           "None of the above"
          ],
          "None of the above"
         ],
         {
          "assignment": "assignment1",
          "selected": null
         }
        ],
        "identifier": "suncolor"
       },
       "output_type": "display_data"
      },
      {
       "json": {
        "workbook_metadata": {
         "yes": "this is metadata"
        }
       },
       "output_type": "display_data"
      }
     ],
     "prompt_number": 4
    },
    {
     "cell_type": "code",
     "input": [
      "MultipleChoice('day_of_the_week', \"What's your favorite day of the week.\", ['Monday', 'Tuesday', 'Wednesday', 'Thursday', 'Friday', 'Saturday', 'Sunday'], 'Friday').publish()"
     ],
     "language": "python",
     "outputs": [
      {
       "latex": [
        "What's your favorite day of the week."
       ],
       "output_type": "display_data"
      },
      {
       "html": [
        "<form name=\"day_of_the_week\" method=\"post\" >\n",
        "<p><input type=\"radio\" name=day_of_the_week value=\"Monday\" id=\"Monday\"> Monday</p>\n",
        "<p><input type=\"radio\" name=day_of_the_week value=\"Tuesday\" id=\"Tuesday\"> Tuesday</p>\n",
        "<p><input type=\"radio\" name=day_of_the_week value=\"Wednesday\" id=\"Wednesday\"> Wednesday</p>\n",
        "<p><input type=\"radio\" name=day_of_the_week value=\"Thursday\" id=\"Thursday\"> Thursday</p>\n",
        "<p><input type=\"radio\" name=day_of_the_week value=\"Friday\" id=\"Friday\"> Friday</p>\n",
        "<p><input type=\"radio\" name=day_of_the_week value=\"Saturday\" id=\"Saturday\"> Saturday</p>\n",
        "<p><input type=\"radio\" name=day_of_the_week value=\"Sunday\" id=\"Sunday\"> Sunday</p></form>\n"
       ],
       "json": {
        "constructor_info": [
         "multiple_choice",
         [
          "day_of_the_week",
          "What's your favorite day of the week.",
          [
           "Monday",
           "Tuesday",
           "Wednesday",
           "Thursday",
           "Friday",
           "Saturday",
           "Sunday"
          ],
          "Friday"
         ],
         {
          "assignment": "assignment1",
          "selected": null
         }
        ],
        "question_identifier": "day_of_the_week"
       },
       "output_type": "display_data"
      }
     ],
     "prompt_number": 3
    },
    {
     "cell_type": "code",
     "input": [
      "counter.next()\n",
      "\n",
      "%R X = rnorm(40) ; Y = rnorm(40) + X ; plot(X,Y, pch=24, bg='red', cex=2)\n",
      "\n",
      "TrueFalse('cor_T_or_F', \"The correlation is negative.\", False).publish()"
     ],
     "language": "python",
     "outputs": [
      {
       "html": [
        "<h2>Question 2</h2>"
       ],
       "output_type": "display_data"
      },
      {
       "output_type": "display_data",
       "png": "[encoded data removed]"
      },
      {
       "latex": [
        "The correlation is negative."
       ],
       "output_type": "display_data"
      },
      {
       "html": [
        "<form name=\"cor_T_or_F\" method=\"post\" >\n",
        "<p><input type=\"radio\" name=cor_T_or_F value=\"True\" id=\"True\"> True</p>\n",
        "<p><input type=\"radio\" name=cor_T_or_F value=\"False\" id=\"False\"> False</p></form>\n"
       ],
       "json": {
        "constructor_info": [
         "true_false",
         [
          "cor_T_or_F",
          "The correlation is negative.",
          "False"
         ],
         {
          "assignment": "assignment1",
          "selected": null
         }
        ],
        "question_identifier": "cor_T_or_F"
       },
       "output_type": "display_data"
      }
     ],
     "prompt_number": 4
    },
    {
     "cell_type": "code",
     "input": [
      "counter.next()\n",
      "\n",
      "%R print(summary(lm(X~Y)))"
     ],
     "language": "python",
     "outputs": [
      {
       "html": [
        "<h2>Question 3</h2>"
       ],
       "output_type": "display_data"
      },
      {
       "output_type": "display_data",
       "text": [
        "\n",
        "Call:\n",
        "lm(formula = X ~ Y)\n",
        "\n",
        "Residuals:\n",
        "     Min       1Q   Median       3Q      Max \n",
        "-1.84879 -0.38689 -0.05928  0.37091  1.28780 \n",
        "\n",
        "Coefficients:\n",
        "            Estimate Std. Error t value Pr(>|t|)    \n",
        "(Intercept)  0.09248    0.10147   0.911    0.368    \n",
        "Y            0.47047    0.08015   5.870 8.59e-07 ***\n",
        "---\n",
        "Signif. codes:  0 \u2018***\u2019 0.001 \u2018**\u2019 0.01 \u2018*\u2019 0.05 \u2018.\u2019 0.1 \u2018 \u2019 1 \n",
        "\n",
        "Residual standard error: 0.6405 on 38 degrees of freedom\n",
        "Multiple R-squared: 0.4755,\tAdjusted R-squared: 0.4617 \n",
        "F-statistic: 34.46 on 1 and 38 DF,  p-value: 8.587e-07 \n",
        "\n"
       ]
      }
     ],
     "prompt_number": 5
    },
    {
     "cell_type": "code",
     "input": [
      "true_corr = %R cor(X,Y)\n",
      "\n",
      "\n",
      "\n",
      "question_text = r'Up to 2 significant digits, what is the correlation between $X$ and $Y$?'\n",
      "\n",
      "\n",
      "\n",
      "while True:\n",
      "\n",
      "    choices = ['%0.2f' % c for c in list(np.random.random(size=(3,))*2-1) + [true_corr]]\n",
      "\n",
      "    if len(set(choices)) == 4 :\n",
      "\n",
      "        break"
     ],
     "language": "python",
     "outputs": [],
     "prompt_number": 6
    },
    {
     "cell_type": "code",
     "input": [
      "MultipleChoice('correlation', question_text, choices, \"%0.2f\" % true_corr).publish()"
     ],
     "language": "python",
     "outputs": [
      {
       "latex": [
        "Up to 2 significant digits, what is the correlation between $X$ and $Y$?"
       ],
       "output_type": "display_data"
      },
      {
       "html": [
        "<form name=\"correlation\" method=\"post\" >\n",
        "<p><input type=\"radio\" name=correlation value=\"0.10\" id=\"0.10\"> 0.10</p>\n",
        "<p><input type=\"radio\" name=correlation value=\"0.43\" id=\"0.43\"> 0.43</p>\n",
        "<p><input type=\"radio\" name=correlation value=\"0.21\" id=\"0.21\"> 0.21</p>\n",
        "<p><input type=\"radio\" name=correlation value=\"0.69\" id=\"0.69\"> 0.69</p></form>\n"
       ],
       "json": {
        "constructor_info": [
         "multiple_choice",
         [
          "correlation",
          "Up to 2 significant digits, what is the correlation between $X$ and $Y$?",
          [
           "0.10",
           "0.43",
           "0.21",
           "0.69"
          ],
          "0.69"
         ],
         {
          "assignment": "assignment1",
          "selected": null
         }
        ],
        "question_identifier": "correlation"
       },
       "output_type": "display_data"
      }
     ],
     "prompt_number": 7
    },
    {
     "cell_type": "code",
     "input": [
      "publish_display_data('HomeworkBuilder', {'text/html':\"<h3>Explain your work</h3>\"})"
     ],
     "language": "python",
     "outputs": [
      {
       "html": [
        "<h3>Explain your work</h3>"
       ],
       "output_type": "display_data"
      }
     ],
     "prompt_number": 8
    },
    {
     "cell_type": "code",
     "input": [
      "TextBox('trick_question', 'Why do you say that?', 'Because.').publish()"
     ],
     "language": "python",
     "outputs": [
      {
       "latex": [
        "Why do you say that?"
       ],
       "output_type": "display_data"
      },
      {
       "html": [
        "\n",
        "        <form method=\"post\" name=trick_question ><p><input type=\"text\" value=\"\"></p></form>\n",
        "        "
       ],
       "json": {
        "constructor_info": [
         "textbox",
         [
          "trick_question",
          "Why do you say that?"
         ],
         {
          "answer": "",
          "assignment": "assignment1",
          "correct_answer": "Because."
         }
        ],
        "question_identifier": "trick_question"
       },
       "output_type": "display_data"
      }
     ],
     "prompt_number": 9
    },
    {
     "cell_type": "code",
     "input": [
      "NormalMean('mean_10_4_6', 10,4,6).publish()"
     ],
     "language": "python",
     "outputs": [
      {
       "latex": [
        "What is the sample mean, $\\bar{X}$ of this sequence: [0.8, 15.2, 6.8, 18.0, 15.2, 8.0] ?"
       ],
       "output_type": "display_data"
      },
      {
       "html": [
        "<form method=\"post\" name=mean_10_4_6 ><p><input type=\"text\" ></p></form>"
       ],
       "json": {
        "constructor_info": [
         "normal_mean",
         [
          10,
          4,
          6
         ],
         {}
        ],
        "question_identifier": "mean_10_4_6"
       },
       "output_type": "display_data"
      }
     ],
     "prompt_number": 10
    },
    {
     "cell_type": "code",
     "input": [
      "class NormalMeanUser(object):\n",
      "\n",
      "    \"\"\"\n",
      "\n",
      "    Sample from N(mean, sd) independently n times \n",
      "\n",
      "    \"\"\"\n",
      "\n",
      "    tol = 5.e-2\n",
      "\n",
      "    checkable = True\n",
      "\n",
      "    question_template = r\"What is the sample mean, $\\bar{X}$ of this sequence: %s ?\"\n",
      "\n",
      "    def __init__(self, mean, sd, n, identifier):\n",
      "\n",
      "        self.mean = mean\n",
      "\n",
      "        self.identifier = identifier\n",
      "\n",
      "        self.sd = sd\n",
      "\n",
      "        self.n = n\n",
      "\n",
      "        self.sequence = self.generate()\n",
      "\n",
      "        self.correct_answer = np.mean(self.sequence)\n",
      "\n",
      "        \n",
      "\n",
      "    def generate(self):\n",
      "\n",
      "        return np.round(np.random.standard_normal(self.n), 1) * self.sd + self.mean\n",
      "\n",
      "        \n",
      "\n",
      "    @property\n",
      "\n",
      "    def answer(self):\n",
      "\n",
      "        return np.mean(self.sequence)\n",
      "\n",
      "    \n",
      "\n",
      "    def publish(self, return_data=False, display=True):\n",
      "\n",
      "\n",
      "\n",
      "        latex_data = {'text/latex': self.question_template % `[float(\"%0.1f\" % s) for s in self.sequence]`}\n",
      "\n",
      "        html_data = {'text/html': '<form method=\"post\" name=%s ><p><input type=\"text\" ></p></form>' % self.identifier}\n",
      "\n",
      "        json_data = {'application/json':{'question_identifier':self.identifier,\n",
      "                                         'constructor_info': ('normal_mean', [self.mean, self.sd, self.n], {})}}\n",
      "\n",
      "        \n",
      "\n",
      "        output_data = {}\n",
      "\n",
      "        if display:\n",
      "            publish_display_data(\"NormalMean\", latex_data)\n",
      "            # this next bit puts the question identifier in the same output as the form which\n",
      "            # is important\n",
      "            html_data.update(json_data)\n",
      "            publish_display_data(\"NormalMean\", html_data)\n",
      "\n",
      "        if return_data:\n",
      "            data = {}\n",
      "            for d in [latex_data, html_data, json_data]:\n",
      "\t\t        data.update(d)\n",
      "            return data\n",
      "\n",
      "    def check_answer(self, answer):\n",
      "\n",
      "        if np.fabs(answer - self.correct_answer) / np.std(self.sequence) < self.tol:\n",
      "\n",
      "            data = self.publish(return_data=True, display=False)\n",
      "\n",
      "            data['text/html'] += '\\n<p><h2>Good job!</h2></p>\\n'\n",
      "\n",
      "        else:\n",
      "\n",
      "            self.sequence = self.generate()\n",
      "\n",
      "            data = self.publish(return_data=True, display=False)\n",
      "\n",
      "            data['text/html'] += '\\n<p><h2>Try Again!</h2></p>\\n' \n",
      "\n",
      "  \n",
      "\n",
      "counter.next()\n",
      "\n",
      "NormalMean('mean_10_sd_3_n_6', 10, 3, 6).publish()\n",
      "\n",
      "register_question_type('normal_mean_user', NormalMeanUser)"
     ],
     "language": "python",
     "outputs": [
      {
       "html": [
        "<h2>Question 4</h2>"
       ],
       "output_type": "display_data"
      },
      {
       "latex": [
        "What is the sample mean, $\\bar{X}$ of this sequence: [17.5, 13.3, 11.5, 11.8, 9.4, 14.2] ?"
       ],
       "output_type": "display_data"
      },
      {
       "html": [
        "<form method=\"post\" name=mean_10_sd_3_n_6 ><p><input type=\"text\" ></p></form>"
       ],
       "json": {
        "constructor_info": [
         "normal_mean",
         [
          10,
          3,
          6
         ],
         {}
        ],
        "question_identifier": "mean_10_sd_3_n_6"
       },
       "output_type": "display_data"
      },
      {
       "output_type": "stream",
       "stream": "stderr",
       "text": [
        "HEREIAM\n",
        "{'multiple_choice': <class 'workbook.utils.questions.MultipleChoice'>, 'true_false': <class 'workbook.utils.questions.TrueFalse'>, 'normal_mean_user': <class '__main__.NormalMeanUser'>, 'normal_mean': <class 'workbook.utils.questions.NormalMean'>, 'textbox': <class 'workbook.utils.questions.TextBox'>}\n",
        "HOW CAN WE UPDATE THIS DYNAMICALLY?\n"
       ]
      }
     ],
     "prompt_number": 11
    },
    {
     "cell_type": "code",
     "input": [
      "\n"
     ],
     "language": "python",
     "outputs": [],
     "prompt_number": 11
    }
   ]
  }
 ]
}