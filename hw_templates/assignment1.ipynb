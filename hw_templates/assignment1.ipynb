{
 "metadata": {
  "name": "assignment1"
 },
 "nbformat": 3,
 "worksheets": [
  {
   "cells": [
    {
     "cell_type": "code",
     "input": [
      "counter.next()"
     ],
     "language": "python",
     "outputs": [
      {
       "html": [
        "<h2>Question 1</h2>"
       ],
       "output_type": "display_data"
      }
     ],
     "prompt_number": 1
    },
    {
     "cell_type": "code",
     "input": [
      "MultipleChoice('suncolor', 'What color is the sun?', ['Red', 'Green', 'Blue', 'None of the above'], 'None of the above', 'suncolor_new').publish()",
      "things_I_want_to_add_to_cell = {'yes':'this is metadata'}",
      "%metadata things_I_want_to_add_to_cell"
     ],
     "language": "python",
     "outputs": []
    },
    {
     "cell_type": "code",
     "input": [
      "MultipleChoice('day_of_the_week', \"What's your favorite day of the week.\", ['Monday', 'Tuesday', 'Wednesday', 'Thursday', 'Friday', 'Saturday', 'Sunday'], 'Friday', shuffle=False).publish()"
     ],
     "language": "python",
     "outputs": [
      {
       "latex": [
        "What's your favorite day of the week."
       ],
       "output_type": "display_data"
      },
      {
       "html": [
        "",
        "    <p><input type=\"radio\" name=\"day_of_the_week\" value=\"Saturday\"> Saturday</p>",
        "    ",
        "",
        "    <p><input type=\"radio\" name=\"day_of_the_week\" value=\"Thursday\"> Thursday</p>",
        "    ",
        "",
        "    <p><input type=\"radio\" name=\"day_of_the_week\" value=\"Wednesday\"> Wednesday</p>",
        "    ",
        "",
        "    <p><input type=\"radio\" name=\"day_of_the_week\" value=\"Friday\"> Friday</p>",
        "    ",
        "",
        "    <p><input type=\"radio\" name=\"day_of_the_week\" value=\"Monday\"> Monday</p>",
        "    ",
        "",
        "    <p><input type=\"radio\" name=\"day_of_the_week\" value=\"Tuesday\"> Tuesday</p>",
        "    ",
        "",
        "    <p><input type=\"radio\" name=\"day_of_the_week\" value=\"Sunday\"> Sunday</p>",
        "    "
       ],
       "output_type": "display_data"
      },
      {
       "json": [
        "{\"checkable\": true, \"question_identifier\": \"day_of_the_week\", \"correct_answer\": \"Friday\"}"
       ],
       "output_type": "display_data"
      }
     ],
     "prompt_number": 4
    },
    {
     "cell_type": "code",
     "input": [
      "counter.next()",
      "%R X = rnorm(40) ; Y = rnorm(40) + X ; plot(X,Y, pch=24, bg='red', cex=2)",
      "TrueFalse('cor_T_or_F', \"The correlation is negative.\", False).publish()"
     ],
     "language": "python",
     "outputs": []
    },
    {
     "cell_type": "code",
     "input": [
      "counter.next()",
      "%R print(summary(lm(X~Y)))"
     ],
     "language": "python",
     "outputs": []
    },
    {
     "cell_type": "code",
     "input": [
      "true_corr = %R cor(X,Y)",
      "",
      "question_text = r'Up to 2 significant digits, what is the correlation between $X$ and $Y$?'",
      "",
      "while True:",
      "    choices = ['%0.2f' % c for c in list(np.random.random(size=(3,))*2-1) + [true_corr]]",
      "    if len(set(choices)) == 4 :",
      "        break"
     ],
     "language": "python",
     "outputs": []
    },
    {
     "cell_type": "code",
     "input": [
      "MultipleChoice('correlation', question_text, choices, \"%0.2f\" % true_corr).publish()"
     ],
     "language": "python",
     "outputs": []
    },
    {
     "cell_type": "code",
     "input": [
      "publish_display_data('HomeworkBuilder', {'text/html':\"<h3>Explain your work</h3>\"})"
     ],
     "language": "python",
     "outputs": []
    },
    {
     "cell_type": "code",
     "input": [
      "TextBox('trick_question', 'Why do you say that?', 'Because.').publish()"
     ],
     "language": "python",
     "outputs": []
    }
   ]
  }
 ]
}