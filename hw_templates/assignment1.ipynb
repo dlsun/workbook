{
 "metadata": {
  "name": "assignment1"
 },
 "nbformat": 3,
 "nbformat_minor": 0,
 "worksheets": [
  {
   "cells": [
    {
     "cell_type": "code",
     "collapsed": false,
     "input": [
      "%load_ext rmagic\n",
      "from workbook.api import *\n"
     ],
     "language": "python",
     "metadata": {},
     "outputs": []
    },
    {
     "cell_type": "code",
     "collapsed": false,
     "input": [
      "%%wb_multiple_choice 'test_mc'\n",
      "%R X=rnorm(10); print(X)\n",
      "question_text = 'Is it true?'                                                                                                                                                       \n",
      "choices = ['True', 'False']                                                                                                                                                         \n",
      "correct_answer = 'True'    "
     ],
     "language": "python",
     "metadata": {},
     "outputs": []
    }
   ],
   "metadata": {}
  }
 ]
}